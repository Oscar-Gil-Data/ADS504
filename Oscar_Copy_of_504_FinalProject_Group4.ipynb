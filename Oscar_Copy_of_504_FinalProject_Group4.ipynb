{
  "nbformat": 4,
  "nbformat_minor": 0,
  "metadata": {
    "colab": {
      "name": "Oscar - Copy of 504_FinalProject_Group4.ipynb",
      "provenance": []
    },
    "kernelspec": {
      "name": "python3",
      "display_name": "Python 3"
    },
    "language_info": {
      "name": "python"
    }
  },
  "cells": [
    {
      "cell_type": "code",
      "execution_count": null,
      "metadata": {
        "id": "dhRc1b1EXiTS"
      },
      "outputs": [],
      "source": [
        ""
      ]
    }
  ]
}
{
  "nbformat": 4,
  "nbformat_minor": 0,
  "metadata": {
    "colab": {
      "name": "504_FinalProject_Group4.ipynb",
      "provenance": [],
      "include_colab_link": true
    },
    "kernelspec": {
      "name": "python3",
      "display_name": "Python 3"
    },
    "language_info": {
      "name": "python"
    }
  },
  "cells": [
    {
      "cell_type": "markdown",
      "metadata": {
        "id": "view-in-github",
        "colab_type": "text"
      },
      "source": [
        "<a href=\"https://colab.research.google.com/github/OscarG-DataSci/ADS504/blob/main/504_FinalProject_Group4.ipynb\" target=\"_parent\"><img src=\"https://colab.research.google.com/assets/colab-badge.svg\" alt=\"Open In Colab\"/></a>"
      ]
    },
    {
      "cell_type": "code",
      "execution_count": null,
      "metadata": {
        "id": "dhRc1b1EXiTS"
      },
      "outputs": [],
      "source": [
        "import pandas as pd"
      ]
    },
    {
      "cell_type": "code",
      "source": [
        "d012 = pd.read_csv('https://raw.githubusercontent.com/OscarG-DataSci/ADS504/main/diabetes_012_health_indicators_BRFSS2015.csv')\n",
        "\n",
        "d5050 = pd.read_csv('https://raw.githubusercontent.com/OscarG-DataSci/ADS504/main/diabetes_binary_5050split_health_indicators_BRFSS2015.csv')\n",
        "\n",
        "dbinary = pd.read_csv('https://raw.githubusercontent.com/OscarG-DataSci/ADS504/main/diabetes_binary_health_indicators_BRFSS2015.csv')"
      ],
      "metadata": {
        "id": "u5ufBSk2_hNe"
      },
      "execution_count": null,
      "outputs": []
    },
    {
      "cell_type": "code",
      "source": [
        "print(\"d012 shape:\")\n",
        "print(d012.shape)\n",
        "\n",
        "print(\"\")\n",
        "\n",
        "print(\"d5050 shape:\")\n",
        "print(d5050.shape)\n",
        "\n",
        "print(\"\")\n",
        "\n",
        "print(\"dbinary shape:\")\n",
        "print(dbinary.shape)"
      ],
      "metadata": {
        "colab": {
          "base_uri": "https://localhost:8080/"
        },
        "id": "qyvrzeAxAFu_",
        "outputId": "ae6ec334-fa0d-4bb2-dc25-51cc79239d7b"
      },
      "execution_count": null,
      "outputs": [
        {
          "output_type": "stream",
          "name": "stdout",
          "text": [
            "d012 shape:\n",
            "(253680, 22)\n",
            "\n",
            "d5050 shape:\n",
            "(70692, 22)\n",
            "\n",
            "dbinary shape:\n",
            "(253680, 22)\n"
          ]
        }
      ]
    },
    {
      "cell_type": "markdown",
      "source": [
        "# **Predictive Analysis of Diabetes**"
      ],
      "metadata": {
        "id": "MLSnOr8nHRBU"
      }
    },
    {
      "cell_type": "code",
      "source": [
        "# Necessary Imports \n",
        "import pandas as pd \n",
        "import numpy as np\n",
        "from sklearn.model_selection import train_test_split\n",
        "from sklearn.impute import SimpleImputer\n",
        "import seaborn as sns\n",
        "import matplotlib.pyplot as plt\n",
        "from sklearn.preprocessing import StandardScaler"
      ],
      "metadata": {
        "id": "-HJ0ELbcHORz"
      },
      "execution_count": null,
      "outputs": []
    },
    {
      "cell_type": "markdown",
      "source": [
        "**Preprocessing & EDA:**"
      ],
      "metadata": {
        "id": "EELsgie3IBj0"
      }
    },
    {
      "cell_type": "code",
      "source": [
        "from google.colab import drive\n",
        "drive.mount('/content/drive')"
      ],
      "metadata": {
        "colab": {
          "base_uri": "https://localhost:8080/"
        },
        "id": "yIwsyyv7LZCH",
        "outputId": "7bdcdafe-57d7-44b2-a62e-01873cee678b"
      },
      "execution_count": null,
      "outputs": [
        {
          "output_type": "stream",
          "name": "stdout",
          "text": [
            "Mounted at /content/drive\n"
          ]
        }
      ]
    },
    {
      "cell_type": "code",
      "source": [
        "# Loading in the dataset\n",
        "diabetes_df = pd.read_csv('/content/drive/MyDrive/Colab Notebooks/2015.csv')"
      ],
      "metadata": {
        "id": "a4qdPWF1IA3E"
      },
      "execution_count": null,
      "outputs": []
    },
    {
      "cell_type": "code",
      "source": [
        "# Visualizing the data \n",
        "diabetes_df.head(2)"
      ],
      "metadata": {
        "colab": {
          "base_uri": "https://localhost:8080/",
          "height": 205
        },
        "id": "xJqJRURfIGl8",
        "outputId": "9e0a450e-af99-4968-cb42-51af94e96a77"
      },
      "execution_count": null,
      "outputs": [
        {
          "output_type": "execute_result",
          "data": {
            "text/plain": [
              "   _STATE  FMONTH        IDATE IMONTH   IDAY    IYEAR  DISPCODE       SEQNO  \\\n",
              "0       1       1  b'01292015'  b'01'  b'29'  b'2015'      1200  2015000001   \n",
              "1       1       1  b'01202015'  b'01'  b'20'  b'2015'      1100  2015000002   \n",
              "\n",
              "         _PSU  CTELENUM  ...  _PAREC1  _PASTAE1  _LMTACT1  _LMTWRK1  _LMTSCL1  \\\n",
              "0  2015000001       1.0  ...        4         2       1.0       1.0       1.0   \n",
              "1  2015000002       1.0  ...        2         2       3.0       3.0       4.0   \n",
              "\n",
              "   _RFSEAT2  _RFSEAT3  _FLSHOT6  _PNEUMO2  _AIDTST3  \n",
              "0         1         1       NaN       NaN       1.0  \n",
              "1         2         2       NaN       NaN       2.0  \n",
              "\n",
              "[2 rows x 330 columns]"
            ],
            "text/html": [
              "\n",
              "  <div id=\"df-acdbb3a3-8082-4d6d-bdf6-da93d8fb9742\">\n",
              "    <div class=\"colab-df-container\">\n",
              "      <div>\n",
              "<style scoped>\n",
              "    .dataframe tbody tr th:only-of-type {\n",
              "        vertical-align: middle;\n",
              "    }\n",
              "\n",
              "    .dataframe tbody tr th {\n",
              "        vertical-align: top;\n",
              "    }\n",
              "\n",
              "    .dataframe thead th {\n",
              "        text-align: right;\n",
              "    }\n",
              "</style>\n",
              "<table border=\"1\" class=\"dataframe\">\n",
              "  <thead>\n",
              "    <tr style=\"text-align: right;\">\n",
              "      <th></th>\n",
              "      <th>_STATE</th>\n",
              "      <th>FMONTH</th>\n",
              "      <th>IDATE</th>\n",
              "      <th>IMONTH</th>\n",
              "      <th>IDAY</th>\n",
              "      <th>IYEAR</th>\n",
              "      <th>DISPCODE</th>\n",
              "      <th>SEQNO</th>\n",
              "      <th>_PSU</th>\n",
              "      <th>CTELENUM</th>\n",
              "      <th>...</th>\n",
              "      <th>_PAREC1</th>\n",
              "      <th>_PASTAE1</th>\n",
              "      <th>_LMTACT1</th>\n",
              "      <th>_LMTWRK1</th>\n",
              "      <th>_LMTSCL1</th>\n",
              "      <th>_RFSEAT2</th>\n",
              "      <th>_RFSEAT3</th>\n",
              "      <th>_FLSHOT6</th>\n",
              "      <th>_PNEUMO2</th>\n",
              "      <th>_AIDTST3</th>\n",
              "    </tr>\n",
              "  </thead>\n",
              "  <tbody>\n",
              "    <tr>\n",
              "      <th>0</th>\n",
              "      <td>1</td>\n",
              "      <td>1</td>\n",
              "      <td>b'01292015'</td>\n",
              "      <td>b'01'</td>\n",
              "      <td>b'29'</td>\n",
              "      <td>b'2015'</td>\n",
              "      <td>1200</td>\n",
              "      <td>2015000001</td>\n",
              "      <td>2015000001</td>\n",
              "      <td>1.0</td>\n",
              "      <td>...</td>\n",
              "      <td>4</td>\n",
              "      <td>2</td>\n",
              "      <td>1.0</td>\n",
              "      <td>1.0</td>\n",
              "      <td>1.0</td>\n",
              "      <td>1</td>\n",
              "      <td>1</td>\n",
              "      <td>NaN</td>\n",
              "      <td>NaN</td>\n",
              "      <td>1.0</td>\n",
              "    </tr>\n",
              "    <tr>\n",
              "      <th>1</th>\n",
              "      <td>1</td>\n",
              "      <td>1</td>\n",
              "      <td>b'01202015'</td>\n",
              "      <td>b'01'</td>\n",
              "      <td>b'20'</td>\n",
              "      <td>b'2015'</td>\n",
              "      <td>1100</td>\n",
              "      <td>2015000002</td>\n",
              "      <td>2015000002</td>\n",
              "      <td>1.0</td>\n",
              "      <td>...</td>\n",
              "      <td>2</td>\n",
              "      <td>2</td>\n",
              "      <td>3.0</td>\n",
              "      <td>3.0</td>\n",
              "      <td>4.0</td>\n",
              "      <td>2</td>\n",
              "      <td>2</td>\n",
              "      <td>NaN</td>\n",
              "      <td>NaN</td>\n",
              "      <td>2.0</td>\n",
              "    </tr>\n",
              "  </tbody>\n",
              "</table>\n",
              "<p>2 rows × 330 columns</p>\n",
              "</div>\n",
              "      <button class=\"colab-df-convert\" onclick=\"convertToInteractive('df-acdbb3a3-8082-4d6d-bdf6-da93d8fb9742')\"\n",
              "              title=\"Convert this dataframe to an interactive table.\"\n",
              "              style=\"display:none;\">\n",
              "        \n",
              "  <svg xmlns=\"http://www.w3.org/2000/svg\" height=\"24px\"viewBox=\"0 0 24 24\"\n",
              "       width=\"24px\">\n",
              "    <path d=\"M0 0h24v24H0V0z\" fill=\"none\"/>\n",
              "    <path d=\"M18.56 5.44l.94 2.06.94-2.06 2.06-.94-2.06-.94-.94-2.06-.94 2.06-2.06.94zm-11 1L8.5 8.5l.94-2.06 2.06-.94-2.06-.94L8.5 2.5l-.94 2.06-2.06.94zm10 10l.94 2.06.94-2.06 2.06-.94-2.06-.94-.94-2.06-.94 2.06-2.06.94z\"/><path d=\"M17.41 7.96l-1.37-1.37c-.4-.4-.92-.59-1.43-.59-.52 0-1.04.2-1.43.59L10.3 9.45l-7.72 7.72c-.78.78-.78 2.05 0 2.83L4 21.41c.39.39.9.59 1.41.59.51 0 1.02-.2 1.41-.59l7.78-7.78 2.81-2.81c.8-.78.8-2.07 0-2.86zM5.41 20L4 18.59l7.72-7.72 1.47 1.35L5.41 20z\"/>\n",
              "  </svg>\n",
              "      </button>\n",
              "      \n",
              "  <style>\n",
              "    .colab-df-container {\n",
              "      display:flex;\n",
              "      flex-wrap:wrap;\n",
              "      gap: 12px;\n",
              "    }\n",
              "\n",
              "    .colab-df-convert {\n",
              "      background-color: #E8F0FE;\n",
              "      border: none;\n",
              "      border-radius: 50%;\n",
              "      cursor: pointer;\n",
              "      display: none;\n",
              "      fill: #1967D2;\n",
              "      height: 32px;\n",
              "      padding: 0 0 0 0;\n",
              "      width: 32px;\n",
              "    }\n",
              "\n",
              "    .colab-df-convert:hover {\n",
              "      background-color: #E2EBFA;\n",
              "      box-shadow: 0px 1px 2px rgba(60, 64, 67, 0.3), 0px 1px 3px 1px rgba(60, 64, 67, 0.15);\n",
              "      fill: #174EA6;\n",
              "    }\n",
              "\n",
              "    [theme=dark] .colab-df-convert {\n",
              "      background-color: #3B4455;\n",
              "      fill: #D2E3FC;\n",
              "    }\n",
              "\n",
              "    [theme=dark] .colab-df-convert:hover {\n",
              "      background-color: #434B5C;\n",
              "      box-shadow: 0px 1px 3px 1px rgba(0, 0, 0, 0.15);\n",
              "      filter: drop-shadow(0px 1px 2px rgba(0, 0, 0, 0.3));\n",
              "      fill: #FFFFFF;\n",
              "    }\n",
              "  </style>\n",
              "\n",
              "      <script>\n",
              "        const buttonEl =\n",
              "          document.querySelector('#df-acdbb3a3-8082-4d6d-bdf6-da93d8fb9742 button.colab-df-convert');\n",
              "        buttonEl.style.display =\n",
              "          google.colab.kernel.accessAllowed ? 'block' : 'none';\n",
              "\n",
              "        async function convertToInteractive(key) {\n",
              "          const element = document.querySelector('#df-acdbb3a3-8082-4d6d-bdf6-da93d8fb9742');\n",
              "          const dataTable =\n",
              "            await google.colab.kernel.invokeFunction('convertToInteractive',\n",
              "                                                     [key], {});\n",
              "          if (!dataTable) return;\n",
              "\n",
              "          const docLinkHtml = 'Like what you see? Visit the ' +\n",
              "            '<a target=\"_blank\" href=https://colab.research.google.com/notebooks/data_table.ipynb>data table notebook</a>'\n",
              "            + ' to learn more about interactive tables.';\n",
              "          element.innerHTML = '';\n",
              "          dataTable['output_type'] = 'display_data';\n",
              "          await google.colab.output.renderOutput(dataTable, element);\n",
              "          const docLink = document.createElement('div');\n",
              "          docLink.innerHTML = docLinkHtml;\n",
              "          element.appendChild(docLink);\n",
              "        }\n",
              "      </script>\n",
              "    </div>\n",
              "  </div>\n",
              "  "
            ]
          },
          "metadata": {},
          "execution_count": 5
        }
      ]
    },
    {
      "cell_type": "code",
      "source": [
        "# checking size of the data \n",
        "diabetes_df.shape"
      ],
      "metadata": {
        "colab": {
          "base_uri": "https://localhost:8080/"
        },
        "id": "FIAgzNCyIIeQ",
        "outputId": "13d2aa51-b0fe-4674-fe36-f71e3e732520"
      },
      "execution_count": null,
      "outputs": [
        {
          "output_type": "execute_result",
          "data": {
            "text/plain": [
              "(441456, 330)"
            ]
          },
          "metadata": {},
          "execution_count": 6
        }
      ]
    },
    {
      "cell_type": "markdown",
      "source": [
        "Total of 330 columns and 441,456 rows of data. There are too many columns to work with. Columns to remove: empty columns, redundant columns, and irrelvant columns."
      ],
      "metadata": {
        "id": "S0DGPF4IILXJ"
      }
    },
    {
      "cell_type": "code",
      "source": [
        "# Dimensionality Reduction \n",
        "\n",
        "# Looking for any empty columns (85% or higher was empty) \n",
        "nan_cols85 = [i for i in diabetes_df.columns if diabetes_df[i].isnull().sum()\\\n",
        "              > 0.85*len(diabetes_df)]\n",
        "\n",
        "# nan_cols85 <- was too long so it's included below in a condensed format "
      ],
      "metadata": {
        "id": "mASDum8eIK7U"
      },
      "execution_count": null,
      "outputs": []
    },
    {
      "cell_type": "code",
      "source": [
        "# Removal of Empty Columns \n",
        "diabetes_df85 = diabetes_df.copy(deep=True) \n",
        "diabetes_df85 = diabetes_df85.drop(['COLGHOUS','LADULT','CCLGHOUS','ASTHNOW',\n",
        "'DIABAGE2','NUMPHON2','PREGNANT','STOPSMK2','INSULIN','BLDSUGAR','FEETCHK2',\n",
        "'DOCTDIAB','CHKHEMO3','FEETCHK','EYEEXAM','DIABEYE', 'DIABEDU', 'PAINACT2', \n",
        "'QLMENTL2', 'QLSTRES2', 'QLHLTH2', 'CRGVREL1', 'CRGVLNG1', 'CRGVHRS1', \n",
        "'CRGVPRB1', 'CRGVPERS', 'CRGVHOUS', 'CRGVMST2', 'VIDFCLT2', 'VIREDIF3', \n",
        "'VIPRFVS2', 'VINOCRE2', 'VIEYEXM2', 'VIINSUR2', 'VICTRCT4', 'VIGLUMA2', \n",
        "'VIMACDG2', 'CDHOUSE', 'CDASSIST', 'CDHELP', 'CDSOCIAL', 'CDDISCUS', 'WTCHSALT', \n",
        "'LONGWTCH', 'DRADVISE', 'ASTHMAGE', 'ASATTACK', 'ASERVIST', 'ASDRVIST', \n",
        "'ASRCHKUP', 'ASACTLIM', 'ASYMPTOM', 'ASNOSLEP', 'ASTHMED3', 'ASINHALR', \n",
        "'HAREHAB1', 'STREHAB1', 'CVDASPRN', 'ASPUNSAF', 'RLIVPAIN', 'RDUCHART', \n",
        "'RDUCSTRK', 'ARTTODAY', 'ARTHWGT', 'ARTHEXER', 'ARTHEDU', 'TETANUS', 'HPVADVC2', \n",
        "'HPVADSHT', 'SHINGLE2', 'HADMAM', 'HOWLONG', 'HADPAP2', 'LASTPAP2', 'HPVTEST', \n",
        "'HPLSTTST', 'HADHYST2', 'PROFEXAM', 'LENGEXAM', 'BLDSTOOL', 'LSTBLDS3', \n",
        "'HADSIGM3', 'HADSGCO1', 'LASTSIG3', 'PCPSAAD2', 'PCPSADI1', 'PCPSARE1', \n",
        "'PSATEST1', 'PSATIME', 'PCPSARS1', 'PCPSADE1', 'SCNTPAID', 'SCNTWRK1', \n",
        "'SCNTLPAD', 'SCNTLWK1', 'RCSGENDR', 'RCSRLTN2', 'CASTHDX2', 'CASTHNO2', \n",
        "'EMTSUPRT', 'LSATISFY', 'ADPLEASR', 'ADDOWN', 'ADSLEEP', 'ADENERGY', 'ADEAT1', \n",
        "'ADFAIL', 'ADTHINK', 'ADMOVE', 'MISTMNT', 'ADANXEV', '_CRACE1', '_CPRACE', \n",
        "'_CLLCPWT'], axis=1)"
      ],
      "metadata": {
        "id": "Mdpg_TqRIRY1"
      },
      "execution_count": null,
      "outputs": []
    },
    {
      "cell_type": "code",
      "source": [
        "diabetes_df85.shape"
      ],
      "metadata": {
        "colab": {
          "base_uri": "https://localhost:8080/"
        },
        "id": "yq1NiXDgIUfQ",
        "outputId": "aa5e3f1f-bede-439b-9e43-9979e677d42b"
      },
      "execution_count": null,
      "outputs": [
        {
          "output_type": "execute_result",
          "data": {
            "text/plain": [
              "(441456, 216)"
            ]
          },
          "metadata": {},
          "execution_count": 9
        }
      ]
    },
    {
      "cell_type": "markdown",
      "source": [
        "List of empty columns that were removed (filtered out columns having more nan values than a threshold of value of 85%):\n",
        "\n",
        "'COLGHOUS', 'LADULT', 'CCLGHOUS', 'ASTHNOW', 'DIABAGE2', 'NUMPHON2', 'PREGNANT', 'STOPSMK2', 'INSULIN', 'BLDSUGAR', 'FEETCHK2', 'DOCTDIAB', 'CHKHEMO3', 'FEETCHK',' EYEEXAM', 'DIABEYE', 'DIABEDU', 'PAINACT2', 'QLMENTL2', 'QLSTRES2', 'QLHLTH2', 'CRGVREL1', 'CRGVLNG1', 'CRGVHRS1', 'CRGVPRB1', 'CRGVPERS', 'CRGVHOUS', 'CRGVMST2', 'VIDFCLT2', 'VIREDIF3', 'VIPRFVS2', 'VINOCRE2', 'VIEYEXM2', 'VIINSUR2', 'VICTRCT4', 'VIGLUMA2', 'VIMACDG2', 'CDHOUSE', 'CDASSIST', 'CDHELP', 'CDSOCIAL', 'CDDISCUS', 'WTCHSALT', 'LONGWTCH', 'DRADVISE', 'ASTHMAGE', 'ASATTACK', 'ASERVIST', 'ASDRVIST', 'ASRCHKUP', 'ASACTLIM', 'ASYMPTOM', 'ASNOSLEP', 'ASTHMED3', 'ASINHALR', 'HAREHAB1', 'STREHAB1', 'CVDASPRN', 'ASPUNSAF', 'RLIVPAIN', 'RDUCHART', 'RDUCSTRK', 'ARTTODAY', 'ARTHWGT', 'ARTHEXER', 'ARTHEDU', 'TETANUS', 'HPVADVC2', 'HPVADSHT', 'SHINGLE2', 'HADMAM', 'HOWLONG', 'HADPAP2', 'LASTPAP2', 'HPVTEST', 'HPLSTTST', 'HADHYST2', 'PROFEXAM', 'LENGEXAM', 'BLDSTOOL', 'LSTBLDS3', 'HADSIGM3', 'HADSGCO1', 'LASTSIG3', 'PCPSAAD2', 'PCPSADI1', 'PCPSARE1', 'PSATEST1', 'PSATIME', 'PCPSARS1', 'PCPSADE1', 'SCNTPAID', 'SCNTWRK1', 'SCNTLPAD', 'SCNTLWK1', 'RCSGENDR', 'RCSRLTN2', 'CASTHDX2', 'CASTHNO2', 'EMTSUPRT', 'LSATISFY', 'ADPLEASR', 'ADDOWN', 'ADSLEEP', 'ADENERGY', 'ADEAT1', 'ADFAIL', 'ADTHINK', 'ADMOVE', 'MISTMNT', 'ADANXEV', '_CRACE1', '_CPRACE', '_CLLCPWT'"
      ],
      "metadata": {
        "id": "Z4IBCuCQIW8R"
      }
    },
    {
      "cell_type": "code",
      "source": [
        "diabetes_df85.head(3)\n",
        "# list(diabetes_df85) <- included below as 'List of variables that are left:' "
      ],
      "metadata": {
        "colab": {
          "base_uri": "https://localhost:8080/",
          "height": 237
        },
        "id": "KjkSlEiVIYnE",
        "outputId": "9164875c-f28e-452b-9269-3abd2223a0e8"
      },
      "execution_count": null,
      "outputs": [
        {
          "output_type": "execute_result",
          "data": {
            "text/plain": [
              "   _STATE  FMONTH        IDATE IMONTH   IDAY    IYEAR  DISPCODE       SEQNO  \\\n",
              "0       1       1  b'01292015'  b'01'  b'29'  b'2015'      1200  2015000001   \n",
              "1       1       1  b'01202015'  b'01'  b'20'  b'2015'      1100  2015000002   \n",
              "2       1       1  b'02012015'  b'02'  b'01'  b'2015'      1200  2015000003   \n",
              "\n",
              "         _PSU  CTELENUM  ...  _PAREC1  _PASTAE1  _LMTACT1  _LMTWRK1  _LMTSCL1  \\\n",
              "0  2015000001       1.0  ...        4         2       1.0       1.0       1.0   \n",
              "1  2015000002       1.0  ...        2         2       3.0       3.0       4.0   \n",
              "2  2015000003       1.0  ...        9         9       9.0       9.0       9.0   \n",
              "\n",
              "   _RFSEAT2  _RFSEAT3  _FLSHOT6  _PNEUMO2  _AIDTST3  \n",
              "0         1         1       NaN       NaN       1.0  \n",
              "1         2         2       NaN       NaN       2.0  \n",
              "2         9         9       9.0       9.0       NaN  \n",
              "\n",
              "[3 rows x 216 columns]"
            ],
            "text/html": [
              "\n",
              "  <div id=\"df-488f20b5-ae98-4b73-bb62-ddb0fa7563ba\">\n",
              "    <div class=\"colab-df-container\">\n",
              "      <div>\n",
              "<style scoped>\n",
              "    .dataframe tbody tr th:only-of-type {\n",
              "        vertical-align: middle;\n",
              "    }\n",
              "\n",
              "    .dataframe tbody tr th {\n",
              "        vertical-align: top;\n",
              "    }\n",
              "\n",
              "    .dataframe thead th {\n",
              "        text-align: right;\n",
              "    }\n",
              "</style>\n",
              "<table border=\"1\" class=\"dataframe\">\n",
              "  <thead>\n",
              "    <tr style=\"text-align: right;\">\n",
              "      <th></th>\n",
              "      <th>_STATE</th>\n",
              "      <th>FMONTH</th>\n",
              "      <th>IDATE</th>\n",
              "      <th>IMONTH</th>\n",
              "      <th>IDAY</th>\n",
              "      <th>IYEAR</th>\n",
              "      <th>DISPCODE</th>\n",
              "      <th>SEQNO</th>\n",
              "      <th>_PSU</th>\n",
              "      <th>CTELENUM</th>\n",
              "      <th>...</th>\n",
              "      <th>_PAREC1</th>\n",
              "      <th>_PASTAE1</th>\n",
              "      <th>_LMTACT1</th>\n",
              "      <th>_LMTWRK1</th>\n",
              "      <th>_LMTSCL1</th>\n",
              "      <th>_RFSEAT2</th>\n",
              "      <th>_RFSEAT3</th>\n",
              "      <th>_FLSHOT6</th>\n",
              "      <th>_PNEUMO2</th>\n",
              "      <th>_AIDTST3</th>\n",
              "    </tr>\n",
              "  </thead>\n",
              "  <tbody>\n",
              "    <tr>\n",
              "      <th>0</th>\n",
              "      <td>1</td>\n",
              "      <td>1</td>\n",
              "      <td>b'01292015'</td>\n",
              "      <td>b'01'</td>\n",
              "      <td>b'29'</td>\n",
              "      <td>b'2015'</td>\n",
              "      <td>1200</td>\n",
              "      <td>2015000001</td>\n",
              "      <td>2015000001</td>\n",
              "      <td>1.0</td>\n",
              "      <td>...</td>\n",
              "      <td>4</td>\n",
              "      <td>2</td>\n",
              "      <td>1.0</td>\n",
              "      <td>1.0</td>\n",
              "      <td>1.0</td>\n",
              "      <td>1</td>\n",
              "      <td>1</td>\n",
              "      <td>NaN</td>\n",
              "      <td>NaN</td>\n",
              "      <td>1.0</td>\n",
              "    </tr>\n",
              "    <tr>\n",
              "      <th>1</th>\n",
              "      <td>1</td>\n",
              "      <td>1</td>\n",
              "      <td>b'01202015'</td>\n",
              "      <td>b'01'</td>\n",
              "      <td>b'20'</td>\n",
              "      <td>b'2015'</td>\n",
              "      <td>1100</td>\n",
              "      <td>2015000002</td>\n",
              "      <td>2015000002</td>\n",
              "      <td>1.0</td>\n",
              "      <td>...</td>\n",
              "      <td>2</td>\n",
              "      <td>2</td>\n",
              "      <td>3.0</td>\n",
              "      <td>3.0</td>\n",
              "      <td>4.0</td>\n",
              "      <td>2</td>\n",
              "      <td>2</td>\n",
              "      <td>NaN</td>\n",
              "      <td>NaN</td>\n",
              "      <td>2.0</td>\n",
              "    </tr>\n",
              "    <tr>\n",
              "      <th>2</th>\n",
              "      <td>1</td>\n",
              "      <td>1</td>\n",
              "      <td>b'02012015'</td>\n",
              "      <td>b'02'</td>\n",
              "      <td>b'01'</td>\n",
              "      <td>b'2015'</td>\n",
              "      <td>1200</td>\n",
              "      <td>2015000003</td>\n",
              "      <td>2015000003</td>\n",
              "      <td>1.0</td>\n",
              "      <td>...</td>\n",
              "      <td>9</td>\n",
              "      <td>9</td>\n",
              "      <td>9.0</td>\n",
              "      <td>9.0</td>\n",
              "      <td>9.0</td>\n",
              "      <td>9</td>\n",
              "      <td>9</td>\n",
              "      <td>9.0</td>\n",
              "      <td>9.0</td>\n",
              "      <td>NaN</td>\n",
              "    </tr>\n",
              "  </tbody>\n",
              "</table>\n",
              "<p>3 rows × 216 columns</p>\n",
              "</div>\n",
              "      <button class=\"colab-df-convert\" onclick=\"convertToInteractive('df-488f20b5-ae98-4b73-bb62-ddb0fa7563ba')\"\n",
              "              title=\"Convert this dataframe to an interactive table.\"\n",
              "              style=\"display:none;\">\n",
              "        \n",
              "  <svg xmlns=\"http://www.w3.org/2000/svg\" height=\"24px\"viewBox=\"0 0 24 24\"\n",
              "       width=\"24px\">\n",
              "    <path d=\"M0 0h24v24H0V0z\" fill=\"none\"/>\n",
              "    <path d=\"M18.56 5.44l.94 2.06.94-2.06 2.06-.94-2.06-.94-.94-2.06-.94 2.06-2.06.94zm-11 1L8.5 8.5l.94-2.06 2.06-.94-2.06-.94L8.5 2.5l-.94 2.06-2.06.94zm10 10l.94 2.06.94-2.06 2.06-.94-2.06-.94-.94-2.06-.94 2.06-2.06.94z\"/><path d=\"M17.41 7.96l-1.37-1.37c-.4-.4-.92-.59-1.43-.59-.52 0-1.04.2-1.43.59L10.3 9.45l-7.72 7.72c-.78.78-.78 2.05 0 2.83L4 21.41c.39.39.9.59 1.41.59.51 0 1.02-.2 1.41-.59l7.78-7.78 2.81-2.81c.8-.78.8-2.07 0-2.86zM5.41 20L4 18.59l7.72-7.72 1.47 1.35L5.41 20z\"/>\n",
              "  </svg>\n",
              "      </button>\n",
              "      \n",
              "  <style>\n",
              "    .colab-df-container {\n",
              "      display:flex;\n",
              "      flex-wrap:wrap;\n",
              "      gap: 12px;\n",
              "    }\n",
              "\n",
              "    .colab-df-convert {\n",
              "      background-color: #E8F0FE;\n",
              "      border: none;\n",
              "      border-radius: 50%;\n",
              "      cursor: pointer;\n",
              "      display: none;\n",
              "      fill: #1967D2;\n",
              "      height: 32px;\n",
              "      padding: 0 0 0 0;\n",
              "      width: 32px;\n",
              "    }\n",
              "\n",
              "    .colab-df-convert:hover {\n",
              "      background-color: #E2EBFA;\n",
              "      box-shadow: 0px 1px 2px rgba(60, 64, 67, 0.3), 0px 1px 3px 1px rgba(60, 64, 67, 0.15);\n",
              "      fill: #174EA6;\n",
              "    }\n",
              "\n",
              "    [theme=dark] .colab-df-convert {\n",
              "      background-color: #3B4455;\n",
              "      fill: #D2E3FC;\n",
              "    }\n",
              "\n",
              "    [theme=dark] .colab-df-convert:hover {\n",
              "      background-color: #434B5C;\n",
              "      box-shadow: 0px 1px 3px 1px rgba(0, 0, 0, 0.15);\n",
              "      filter: drop-shadow(0px 1px 2px rgba(0, 0, 0, 0.3));\n",
              "      fill: #FFFFFF;\n",
              "    }\n",
              "  </style>\n",
              "\n",
              "      <script>\n",
              "        const buttonEl =\n",
              "          document.querySelector('#df-488f20b5-ae98-4b73-bb62-ddb0fa7563ba button.colab-df-convert');\n",
              "        buttonEl.style.display =\n",
              "          google.colab.kernel.accessAllowed ? 'block' : 'none';\n",
              "\n",
              "        async function convertToInteractive(key) {\n",
              "          const element = document.querySelector('#df-488f20b5-ae98-4b73-bb62-ddb0fa7563ba');\n",
              "          const dataTable =\n",
              "            await google.colab.kernel.invokeFunction('convertToInteractive',\n",
              "                                                     [key], {});\n",
              "          if (!dataTable) return;\n",
              "\n",
              "          const docLinkHtml = 'Like what you see? Visit the ' +\n",
              "            '<a target=\"_blank\" href=https://colab.research.google.com/notebooks/data_table.ipynb>data table notebook</a>'\n",
              "            + ' to learn more about interactive tables.';\n",
              "          element.innerHTML = '';\n",
              "          dataTable['output_type'] = 'display_data';\n",
              "          await google.colab.output.renderOutput(dataTable, element);\n",
              "          const docLink = document.createElement('div');\n",
              "          docLink.innerHTML = docLinkHtml;\n",
              "          element.appendChild(docLink);\n",
              "        }\n",
              "      </script>\n",
              "    </div>\n",
              "  </div>\n",
              "  "
            ]
          },
          "metadata": {},
          "execution_count": 10
        }
      ]
    },
    {
      "cell_type": "markdown",
      "source": [
        "List of the variables that are left:\n",
        "\n",
        "['STATE', 'FMONTH', 'IDATE', 'IMONTH', 'IDAY', 'IYEAR', 'DISPCODE', 'SEQNO', '_PSU', 'CTELENUM', 'PVTRESD1', 'STATERES', 'CELLFON3', 'NUMADULT', 'NUMMEN', 'NUMWOMEN', 'CTELNUM1', 'CELLFON2', 'CADULT', 'PVTRESD2', 'CSTATE', 'LANDLINE', 'HHADULT', 'GENHLTH', 'PHYSHLTH', 'MENTHLTH', 'POORHLTH', 'HLTHPLN1', 'PERSDOC2', 'MEDCOST', 'CHECKUP1', 'BPHIGH4', 'BPMEDS', 'BLOODCHO', 'CHOLCHK', 'TOLDHI2', 'CVDINFR4', 'CVDCRHD4', 'CVDSTRK3', 'ASTHMA3', 'CHCSCNCR', 'CHCOCNCR', 'CHCCOPD1', 'HAVARTH3', 'ADDEPEV2', 'CHCKIDNY', 'DIABETE3', 'SEX', 'MARITAL', 'EDUCA', 'RENTHOM1', 'NUMHHOL2', 'CPDEMO1', 'VETERAN3', 'EMPLOY1', 'CHILDREN', 'INCOME2', 'INTERNET', 'WEIGHT2', 'HEIGHT3', 'QLACTLM2', 'USEEQUIP', 'BLIND', 'DECIDE', 'DIFFWALK', 'DIFFDRES', 'DIFFALON', 'SMOKE100', 'SMOKDAY2', 'LASTSMK2', 'USENOW3', 'ALCDAY5', 'AVEDRNK2', 'DRNK3GE5', 'MAXDRNKS', 'FRUITJU1', 'FRUIT1', 'FVBEANS', 'FVGREEN', 'FVORANG', 'VEGETAB1', 'EXERANY2', 'EXRACT11', 'EXEROFT1', 'EXERHMM1', 'EXRACT21', 'EXEROFT2', 'EXERHMM2', 'STRENGTH', 'LMTJOIN3', 'ARTHDIS2', 'ARTHSOCL', 'JOINPAIN', 'SEATBELT', 'FLUSHOT6', 'FLSHTMY2', 'IMFVPLAC', 'PNEUVAC3', 'HIVTST6', 'HIVTSTD3', 'WHRTST10', 'PDIABTST', 'PREDIAB1', 'CAREGIV1', 'CRGVEXPT', 'CIMEMLOS', 'PCDMDECN', 'SCNTMNY1', 'SCNTMEL1', 'SXORIENT', 'TRNSGNDR', 'QSTVER', 'QSTLANG', 'EXACTOT1', 'EXACTOT2', 'MSCODE', '_STSTR', '_STRWT', '_RAWRAKE', '_WT2RAKE', '_CHISPNC', '_DUALUSE', '_DUALCOR', '_LLCPWT', '_RFHLTH', '_HCVU651', '_RFHYPE5', '_CHOLCHK', '_RFCHOL', '_MICHD', '_LTASTH1', '_CASTHM1', '_ASTHMS1', '_DRDXAR1', '_PRACE1', '_MRACE1', '_HISPANC', '_RACE', '_RACEG21', '_RACEGR3', '_RACE_G1', '_AGEG5YR', '_AGE65YR', '_AGE80', '_AGE_G', 'HTIN4', 'HTM4', 'WTKG3', '_BMI5', '_BMI5CAT', '_RFBMI5', '_CHLDCNT', '_EDUCAG', '_INCOMG', '_SMOKER3', '_RFSMOK3', 'DRNKANY5', 'DROCDY3', 'RFBING5', '_DRNKWEK', '_RFDRHV5', 'FTJUDA1', 'FRUTDA1_', 'BEANDAY_', 'GRENDAY_', 'ORNGDAY_', 'VEGEDA1_', 'MISFRTN', '_MISVEGN', '_FRTRESP', '_VEGRESP', '_FRUTSUM', '_VEGESUM', '_FRTLT1', '_VEGLT1', '_FRT16', '_VEG23', '_FRUITEX', '_VEGETEX', '_TOTINDA', 'METVL11', 'METVL21_', 'MAXVO2_', 'FC60_', 'ACTIN11_', 'ACTIN21_', 'PADUR1_', 'PADUR2_', 'PAFREQ1_', 'PAFREQ2_', 'MINAC11', '_MINAC21', 'STRFREQ', 'PAMISS1_', 'PAMIN11_', 'PAMIN21_', 'PA1MIN_', 'PAVIG11_', 'PAVIG21_', 'PA1VIGM_', '_PACAT1', '_PAINDX1', '_PA150R2', '_PA300R2', '_PA30021', '_PASTRNG', '_PAREC1', '_PASTAE1', '_LMTACT1', '_LMTWRK1', '_LMTSCL1', '_RFSEAT2', '_RFSEAT3', '_FLSHOT6', '_PNEUMO2', '_AIDTST3']"
      ],
      "metadata": {
        "id": "X2hwbtPbIlJq"
      }
    },
    {
      "cell_type": "code",
      "source": [
        "# Subsetting Data (removal of redundant/irrelevant variables)\n",
        "diabetes_df85RI = diabetes_df85[['HHADULT', 'GENHLTH', 'PHYSHLTH', 'MENTHLTH',\n",
        "                                 'HLTHPLN1', 'BPMEDS','_RFCHOL', 'HTM4', 'WTKG3', \n",
        "                                 'ORNGDAY_','GRENDAY_', 'FRUTDA1_', 'FTJUDA1_', \n",
        "                                 '_SMOKER3','ASTHMA3',  '_MICHD', 'SEX', \n",
        "                                 'BPHIGH4','DIABETE3']]"
      ],
      "metadata": {
        "id": "hTIdMzkZImA4"
      },
      "execution_count": null,
      "outputs": []
    },
    {
      "cell_type": "markdown",
      "source": [
        "A set of 30 independent variables alongside the dependent variable was chosen for the predictive analysis based on previous research, which indicated these variables as being an important risk factor for diabetes. Variables that were redundant or irrelevant were removed through this process. Examples of redundant data would include 'SEQNO' and '_PSU' which both indicate the patient's ID or 'CTELENUM'and 'PVTRESD1'which indicated whether or not the survey was taken using a landline. Additionally, there were the variables 'NUMADULT' and 'HHADULT' which both indicated the number of adults in a household. An example of irrelevant data that was removed would include the variable 'CELLFON3' which indicated whether or not the study was conducted via a cell phone.\n",
        "\n",
        "\n",
        "*   Dependent Variable: 'DIABETE3'\n",
        "*   Independent Variables: 'HHADULT', 'GENHLTH', 'PHYSHLTH', 'MENTHLTH','HLTHPLN1', 'BPMEDS','RFCHOL', 'HTM4', 'WTKG3', 'ORNGDAY','GRENDAY_', 'FRUTDA1_', 'FTJUDA1_', '_SMOKER3','ASTHMA3', '_MICHD', 'SEX', 'BPHIGH4'\n",
        "\n"
      ],
      "metadata": {
        "id": "3a1qCc7qIoDV"
      }
    },
    {
      "cell_type": "markdown",
      "source": [
        "Preprocessing Categorical Variables:"
      ],
      "metadata": {
        "id": "fS4HQKXgI1aW"
      }
    },
    {
      "cell_type": "code",
      "source": [
        "# GENHLTH\n",
        "diabetes_df85RI['GENHLTH']=\\\n",
        " diabetes_df85RI['GENHLTH'].replace({1:0, 2:0, 3:0, 4:1, 5:1, 7:99999, 9:99999})\n",
        "diabetes_df85RI.GENHLTH.unique()"
      ],
      "metadata": {
        "id": "OPMESl0yIncR"
      },
      "execution_count": null,
      "outputs": []
    },
    {
      "cell_type": "markdown",
      "source": [
        "0 = good health, 1 = bad health"
      ],
      "metadata": {
        "id": "n6KnXgo-I8Hv"
      }
    },
    {
      "cell_type": "code",
      "source": [
        "# HLTHPLN1\n",
        "diabetes_df85RI['HLTHPLN1']\\\n",
        "= diabetes_df85RI['HLTHPLN1'].replace({1:0, 2:1, 7:99999, 9:99999})\n",
        "\n",
        "diabetes_df85RI.HLTHPLN1.unique()"
      ],
      "metadata": {
        "id": "ThmvMQ1tI7lW"
      },
      "execution_count": null,
      "outputs": []
    },
    {
      "cell_type": "markdown",
      "source": [
        "0 = have healthcare, 1 = no health care"
      ],
      "metadata": {
        "id": "gJ4bcJmhI-TG"
      }
    },
    {
      "cell_type": "code",
      "source": [
        "# BPMEDS\n",
        "diabetes_df85RI['BPMEDS']\\\n",
        "= diabetes_df85RI['BPMEDS'].replace({1:0, 2:1, 7:99999, 9:99999})\n",
        "\n",
        "diabetes_df85RI.BPMEDS.unique()"
      ],
      "metadata": {
        "id": "nehRWqfQJBFL"
      },
      "execution_count": null,
      "outputs": []
    },
    {
      "cell_type": "markdown",
      "source": [
        "0 = taking BP meds, 1 = not taking BP meds"
      ],
      "metadata": {
        "id": "wCa7Uwc5JDUr"
      }
    },
    {
      "cell_type": "code",
      "source": [
        "# _SMOKER3\n",
        "diabetes_df85RI['_SMOKER3']\\\n",
        "= diabetes_df85RI['_SMOKER3'].replace({3:0, 4:0, 1:1, 2:1,9:99999})\n",
        "\n",
        "diabetes_df85RI._SMOKER3.unique()"
      ],
      "metadata": {
        "id": "4Z3plfcBJDwA"
      },
      "execution_count": null,
      "outputs": []
    },
    {
      "cell_type": "markdown",
      "source": [
        "0 = non smoker, 1 = smoker"
      ],
      "metadata": {
        "id": "S0BMNwerJFVD"
      }
    },
    {
      "cell_type": "code",
      "source": [
        "# ASTHMA3\n",
        "diabetes_df85RI['ASTHMA3']\\\n",
        "= diabetes_df85RI['ASTHMA3'].replace({2:0, 1:1, 7:99999, 9:99999})\n",
        "\n",
        "diabetes_df85RI.ASTHMA3.unique()"
      ],
      "metadata": {
        "id": "5F63GrE6JHG3"
      },
      "execution_count": null,
      "outputs": []
    },
    {
      "cell_type": "markdown",
      "source": [
        "0 = no asthma, 1 = asthma"
      ],
      "metadata": {
        "id": "Lpf3xVDTJIeF"
      }
    },
    {
      "cell_type": "code",
      "source": [
        "# MICHD\n",
        "diabetes_df85RI['_MICHD']\\\n",
        "= diabetes_df85RI['_MICHD'].replace({2:0, 1:1, 7:99999, 9:99999})\n",
        "\n",
        "diabetes_df85RI._MICHD.unique()"
      ],
      "metadata": {
        "id": "A-6NjQnsJJse"
      },
      "execution_count": null,
      "outputs": []
    },
    {
      "cell_type": "markdown",
      "source": [
        "0 = no coronary heart disease or myocardial infarction, 1 = heart disease"
      ],
      "metadata": {
        "id": "ATqLTIlPJLIq"
      }
    },
    {
      "cell_type": "code",
      "source": [
        "# _RFCHOL\n",
        "diabetes_df85RI['_RFCHOL']\\\n",
        "= diabetes_df85RI['_RFCHOL'].replace({1:0, 2:1, 9:99999})\n",
        "\n",
        "diabetes_df85RI._RFCHOL.unique()"
      ],
      "metadata": {
        "id": "-hjOfZIuJM94"
      },
      "execution_count": null,
      "outputs": []
    },
    {
      "cell_type": "markdown",
      "source": [
        "0 = okay LDL, 1 = high LDL"
      ],
      "metadata": {
        "id": "1uDFJhtoJPEy"
      }
    },
    {
      "cell_type": "code",
      "source": [
        "# BPHIGH4\n",
        "diabetes_df85RI['BPHIGH4']\\\n",
        "= diabetes_df85RI['BPHIGH4'].replace({2:0, 3:0, 4:0, 7:99999, 9:99999})\n",
        "\n",
        "diabetes_df85RI.BPHIGH4.unique()"
      ],
      "metadata": {
        "id": "HhjPO-7MJQxU"
      },
      "execution_count": null,
      "outputs": []
    },
    {
      "cell_type": "markdown",
      "source": [
        "0 = normal BP, 1 = high bp"
      ],
      "metadata": {
        "id": "faqu6tLzJS2J"
      }
    },
    {
      "cell_type": "code",
      "source": [
        "# SEX\n",
        "diabetes_df85RI['SEX']\\\n",
        "= diabetes_df85RI['SEX'].replace({2:0})\n",
        "\n",
        "diabetes_df85RI.SEX.unique()"
      ],
      "metadata": {
        "id": "oe6gOfSdJT4k"
      },
      "execution_count": null,
      "outputs": []
    },
    {
      "cell_type": "markdown",
      "source": [
        "0 = female, 1 = male"
      ],
      "metadata": {
        "id": "DrHGiwsrJWXr"
      }
    },
    {
      "cell_type": "code",
      "source": [
        "# DIABETE3 -> Binary outcome with unknown \n",
        "diabetes_df85RI['DIABETE3']\\\n",
        "= diabetes_df85RI['DIABETE3'].replace({2:1, 3:0, 4:0, 7:99999, 9:99999})\n",
        "\n",
        "diabetes_df85RI.DIABETE3.unique()"
      ],
      "metadata": {
        "id": "bSEWEBVDJW2Z"
      },
      "execution_count": null,
      "outputs": []
    },
    {
      "cell_type": "markdown",
      "source": [
        "1 = diabetic, 0 = not diabetic, 99999 = unknown (<- this will be imputed after splitting)"
      ],
      "metadata": {
        "id": "ikEyaBfSJdlJ"
      }
    },
    {
      "cell_type": "markdown",
      "source": [
        "Recoding the unknown responses as 99999 to be imputed later for the numeric data:"
      ],
      "metadata": {
        "id": "Hhf-9makJnni"
      }
    },
    {
      "cell_type": "code",
      "source": [
        "# HHADULT\n",
        "diabetes_df85RI['HHADULT']\\\n",
        "= diabetes_df85RI['HHADULT'].replace({77:99999, 99:99999})"
      ],
      "metadata": {
        "id": "-LYK0n3zJs9O"
      },
      "execution_count": null,
      "outputs": []
    },
    {
      "cell_type": "code",
      "source": [
        "# PHYSHLTH\n",
        "diabetes_df85RI['PHYSHLTH']\\\n",
        "= diabetes_df85RI['PHYSHLTH'].replace({77:99999, 99:99999})"
      ],
      "metadata": {
        "id": "K_3gK_BMJxLi"
      },
      "execution_count": null,
      "outputs": []
    },
    {
      "cell_type": "code",
      "source": [
        "# DIABETES3\n",
        "diabetes_df85RI = diabetes_df85RI[diabetes_df85RI.DIABETE3 != 99999]\n",
        "diabetes_df85RI = diabetes_df85RI.dropna(subset=['DIABETE3'])"
      ],
      "metadata": {
        "id": "3LQzm7oWJ0-w"
      },
      "execution_count": null,
      "outputs": []
    },
    {
      "cell_type": "code",
      "source": [
        "# MENTHLTH\n",
        "diabetes_df85RI['MENTHLTH']\\\n",
        "= diabetes_df85RI['MENTHLTH'].replace({77:99999, 99:99999})"
      ],
      "metadata": {
        "id": "WTLDGbWyJzmP"
      },
      "execution_count": null,
      "outputs": []
    },
    {
      "cell_type": "code",
      "source": [
        "# Splitting of the data to avoid any data leakage 80% Train/20% Test\n",
        "x = diabetes_df85RI.loc[:, diabetes_df85RI.columns !=\"DIABETE3\"]\n",
        "y = diabetes_df85RI['DIABETE3']\n",
        "x_train, x_test, y_train, y_test = train_test_split(x, y, \n",
        "                                                    test_size=0.20,\n",
        "                                                    random_state=42)"
      ],
      "metadata": {
        "id": "eMlxvkQfJ4mi"
      },
      "execution_count": null,
      "outputs": []
    },
    {
      "cell_type": "code",
      "source": [
        "# Handling Missing Values for x_train \n",
        "x_train[x==99999] = np.nan\n",
        "x_train.BPHIGH4.unique() # checking that the 99999 was replaced w/NA\n",
        "\n",
        "imp_mean = SimpleImputer( strategy='most_frequent')\n",
        "imp_mean.fit(x_train)\n",
        "x_train1 = imp_mean.transform(x_train)\n",
        "x_train1 = pd.DataFrame(x_train1, columns = ['HHADULT', 'GENHLTH', 'PHYSHLTH', \n",
        "          'MENTHLTH','HLTHPLN1', 'BPMEDS','_RFCHOL', 'HTM4', 'WTKG3', \n",
        "           'ORNGDAY_','GRENDAY_', 'FRUTDA1_', 'FTJUDA1_','_SMOKER3','ASTHMA3',  \n",
        "           '_MICHD', 'SEX', \n",
        "          'BPHIGH4',])\n",
        "x_train1.head()\n",
        "x_train1.isnull().sum()"
      ],
      "metadata": {
        "colab": {
          "base_uri": "https://localhost:8080/"
        },
        "id": "VHN3g2v5KCPd",
        "outputId": "4f452a04-f985-4204-f5f7-efbbabdc5fd1"
      },
      "execution_count": null,
      "outputs": [
        {
          "output_type": "execute_result",
          "data": {
            "text/plain": [
              "HHADULT     0\n",
              "GENHLTH     0\n",
              "PHYSHLTH    0\n",
              "MENTHLTH    0\n",
              "HLTHPLN1    0\n",
              "BPMEDS      0\n",
              "_RFCHOL     0\n",
              "HTM4        0\n",
              "WTKG3       0\n",
              "ORNGDAY_    0\n",
              "GRENDAY_    0\n",
              "FRUTDA1_    0\n",
              "FTJUDA1_    0\n",
              "_SMOKER3    0\n",
              "ASTHMA3     0\n",
              "_MICHD      0\n",
              "SEX         0\n",
              "BPHIGH4     0\n",
              "dtype: int64"
            ]
          },
          "metadata": {},
          "execution_count": 27
        }
      ]
    },
    {
      "cell_type": "code",
      "source": [
        "# Handling Missing Values for x_test\n",
        "x_test[x==99999] = np.nan\n",
        "imp_mean.fit(x_train)\n",
        "x_test1 = imp_mean.transform(x_test)\n",
        "x_test1 = pd.DataFrame(x_test1, columns = ['HHADULT', 'GENHLTH', 'PHYSHLTH', \n",
        "          'MENTHLTH','HLTHPLN1', 'BPMEDS','_RFCHOL', 'HTM4', 'WTKG3', \n",
        "           'ORNGDAY_','GRENDAY_', 'FRUTDA1_', 'FTJUDA1_','_SMOKER3','ASTHMA3',  \n",
        "           '_MICHD', 'SEX', \n",
        "          'BPHIGH4',])\n",
        "x_test1.head()\n",
        "x_test1.isnull().sum()"
      ],
      "metadata": {
        "colab": {
          "base_uri": "https://localhost:8080/"
        },
        "id": "qu34nH8WKC43",
        "outputId": "8e8f6638-3788-4ae8-d92d-fabe1346541c"
      },
      "execution_count": null,
      "outputs": [
        {
          "output_type": "execute_result",
          "data": {
            "text/plain": [
              "HHADULT     0\n",
              "GENHLTH     0\n",
              "PHYSHLTH    0\n",
              "MENTHLTH    0\n",
              "HLTHPLN1    0\n",
              "BPMEDS      0\n",
              "_RFCHOL     0\n",
              "HTM4        0\n",
              "WTKG3       0\n",
              "ORNGDAY_    0\n",
              "GRENDAY_    0\n",
              "FRUTDA1_    0\n",
              "FTJUDA1_    0\n",
              "_SMOKER3    0\n",
              "ASTHMA3     0\n",
              "_MICHD      0\n",
              "SEX         0\n",
              "BPHIGH4     0\n",
              "dtype: int64"
            ]
          },
          "metadata": {},
          "execution_count": 28
        }
      ]
    },
    {
      "cell_type": "code",
      "source": [
        "x_train1.describe()"
      ],
      "metadata": {
        "colab": {
          "base_uri": "https://localhost:8080/",
          "height": 364
        },
        "id": "4NBxwYUnKIBw",
        "outputId": "5de1e0c0-bce5-4237-fe19-6c78faedd35e"
      },
      "execution_count": null,
      "outputs": [
        {
          "output_type": "execute_result",
          "data": {
            "text/plain": [
              "             HHADULT        GENHLTH       PHYSHLTH       MENTHLTH  \\\n",
              "count  352526.000000  352526.000000  352526.000000  352526.000000   \n",
              "mean        2.060915       0.185632      60.769555      64.746762   \n",
              "std         0.702299       0.388810      37.137848      35.876796   \n",
              "min         1.000000       0.000000       1.000000       1.000000   \n",
              "25%         2.000000       0.000000      15.000000      28.000000   \n",
              "50%         2.000000       0.000000      88.000000      88.000000   \n",
              "75%         2.000000       0.000000      88.000000      88.000000   \n",
              "max        60.000000       1.000000      88.000000      88.000000   \n",
              "\n",
              "            HLTHPLN1         BPMEDS        _RFCHOL           HTM4  \\\n",
              "count  352526.000000  352526.000000  352526.000000  352526.000000   \n",
              "mean        0.072641       0.065414       0.362050     169.251221   \n",
              "std         0.259547       0.247255       0.480594      10.453759   \n",
              "min         0.000000       0.000000       0.000000      91.000000   \n",
              "25%         0.000000       0.000000       0.000000     163.000000   \n",
              "50%         0.000000       0.000000       0.000000     168.000000   \n",
              "75%         0.000000       0.000000       1.000000     178.000000   \n",
              "max         1.000000       1.000000       1.000000     241.000000   \n",
              "\n",
              "               WTKG3      ORNGDAY_      GRENDAY_      FRUTDA1_      FTJUDA1_  \\\n",
              "count  352526.000000  3.525260e+05  3.525260e+05  3.525260e+05  3.525260e+05   \n",
              "mean     8163.616099  2.694903e+01  6.036732e+01  1.003490e+02  3.257755e+01   \n",
              "std      2099.017827  4.327915e+01  6.392758e+01  1.049792e+02  6.751115e+01   \n",
              "min      2268.000000  5.400000e-79  5.400000e-79  5.400000e-79  5.400000e-79   \n",
              "25%      6804.000000  3.000000e+00  1.700000e+01  4.300000e+01  5.400000e-79   \n",
              "50%      7938.000000  1.400000e+01  4.300000e+01  1.000000e+02  3.000000e+00   \n",
              "75%      9072.000000  3.300000e+01  1.000000e+02  1.000000e+02  4.300000e+01   \n",
              "max     28985.000000  9.900000e+03  9.900000e+03  9.900000e+03  9.900000e+03   \n",
              "\n",
              "            _SMOKER3        ASTHMA3         _MICHD            SEX  \\\n",
              "count  352526.000000  352526.000000  352526.000000  352526.000000   \n",
              "mean        0.139760       0.134007       0.087225       0.423696   \n",
              "std         0.346738       0.340660       0.282165       0.494144   \n",
              "min         0.000000       0.000000       0.000000       0.000000   \n",
              "25%         0.000000       0.000000       0.000000       0.000000   \n",
              "50%         0.000000       0.000000       0.000000       0.000000   \n",
              "75%         0.000000       0.000000       0.000000       1.000000   \n",
              "max         1.000000       1.000000       1.000000       1.000000   \n",
              "\n",
              "             BPHIGH4  \n",
              "count  352526.000000  \n",
              "mean        0.403304  \n",
              "std         0.490561  \n",
              "min         0.000000  \n",
              "25%         0.000000  \n",
              "50%         0.000000  \n",
              "75%         1.000000  \n",
              "max         1.000000  "
            ],
            "text/html": [
              "\n",
              "  <div id=\"df-f442067e-758f-4bf6-94b8-41b706da397a\">\n",
              "    <div class=\"colab-df-container\">\n",
              "      <div>\n",
              "<style scoped>\n",
              "    .dataframe tbody tr th:only-of-type {\n",
              "        vertical-align: middle;\n",
              "    }\n",
              "\n",
              "    .dataframe tbody tr th {\n",
              "        vertical-align: top;\n",
              "    }\n",
              "\n",
              "    .dataframe thead th {\n",
              "        text-align: right;\n",
              "    }\n",
              "</style>\n",
              "<table border=\"1\" class=\"dataframe\">\n",
              "  <thead>\n",
              "    <tr style=\"text-align: right;\">\n",
              "      <th></th>\n",
              "      <th>HHADULT</th>\n",
              "      <th>GENHLTH</th>\n",
              "      <th>PHYSHLTH</th>\n",
              "      <th>MENTHLTH</th>\n",
              "      <th>HLTHPLN1</th>\n",
              "      <th>BPMEDS</th>\n",
              "      <th>_RFCHOL</th>\n",
              "      <th>HTM4</th>\n",
              "      <th>WTKG3</th>\n",
              "      <th>ORNGDAY_</th>\n",
              "      <th>GRENDAY_</th>\n",
              "      <th>FRUTDA1_</th>\n",
              "      <th>FTJUDA1_</th>\n",
              "      <th>_SMOKER3</th>\n",
              "      <th>ASTHMA3</th>\n",
              "      <th>_MICHD</th>\n",
              "      <th>SEX</th>\n",
              "      <th>BPHIGH4</th>\n",
              "    </tr>\n",
              "  </thead>\n",
              "  <tbody>\n",
              "    <tr>\n",
              "      <th>count</th>\n",
              "      <td>352526.000000</td>\n",
              "      <td>352526.000000</td>\n",
              "      <td>352526.000000</td>\n",
              "      <td>352526.000000</td>\n",
              "      <td>352526.000000</td>\n",
              "      <td>352526.000000</td>\n",
              "      <td>352526.000000</td>\n",
              "      <td>352526.000000</td>\n",
              "      <td>352526.000000</td>\n",
              "      <td>3.525260e+05</td>\n",
              "      <td>3.525260e+05</td>\n",
              "      <td>3.525260e+05</td>\n",
              "      <td>3.525260e+05</td>\n",
              "      <td>352526.000000</td>\n",
              "      <td>352526.000000</td>\n",
              "      <td>352526.000000</td>\n",
              "      <td>352526.000000</td>\n",
              "      <td>352526.000000</td>\n",
              "    </tr>\n",
              "    <tr>\n",
              "      <th>mean</th>\n",
              "      <td>2.060915</td>\n",
              "      <td>0.185632</td>\n",
              "      <td>60.769555</td>\n",
              "      <td>64.746762</td>\n",
              "      <td>0.072641</td>\n",
              "      <td>0.065414</td>\n",
              "      <td>0.362050</td>\n",
              "      <td>169.251221</td>\n",
              "      <td>8163.616099</td>\n",
              "      <td>2.694903e+01</td>\n",
              "      <td>6.036732e+01</td>\n",
              "      <td>1.003490e+02</td>\n",
              "      <td>3.257755e+01</td>\n",
              "      <td>0.139760</td>\n",
              "      <td>0.134007</td>\n",
              "      <td>0.087225</td>\n",
              "      <td>0.423696</td>\n",
              "      <td>0.403304</td>\n",
              "    </tr>\n",
              "    <tr>\n",
              "      <th>std</th>\n",
              "      <td>0.702299</td>\n",
              "      <td>0.388810</td>\n",
              "      <td>37.137848</td>\n",
              "      <td>35.876796</td>\n",
              "      <td>0.259547</td>\n",
              "      <td>0.247255</td>\n",
              "      <td>0.480594</td>\n",
              "      <td>10.453759</td>\n",
              "      <td>2099.017827</td>\n",
              "      <td>4.327915e+01</td>\n",
              "      <td>6.392758e+01</td>\n",
              "      <td>1.049792e+02</td>\n",
              "      <td>6.751115e+01</td>\n",
              "      <td>0.346738</td>\n",
              "      <td>0.340660</td>\n",
              "      <td>0.282165</td>\n",
              "      <td>0.494144</td>\n",
              "      <td>0.490561</td>\n",
              "    </tr>\n",
              "    <tr>\n",
              "      <th>min</th>\n",
              "      <td>1.000000</td>\n",
              "      <td>0.000000</td>\n",
              "      <td>1.000000</td>\n",
              "      <td>1.000000</td>\n",
              "      <td>0.000000</td>\n",
              "      <td>0.000000</td>\n",
              "      <td>0.000000</td>\n",
              "      <td>91.000000</td>\n",
              "      <td>2268.000000</td>\n",
              "      <td>5.400000e-79</td>\n",
              "      <td>5.400000e-79</td>\n",
              "      <td>5.400000e-79</td>\n",
              "      <td>5.400000e-79</td>\n",
              "      <td>0.000000</td>\n",
              "      <td>0.000000</td>\n",
              "      <td>0.000000</td>\n",
              "      <td>0.000000</td>\n",
              "      <td>0.000000</td>\n",
              "    </tr>\n",
              "    <tr>\n",
              "      <th>25%</th>\n",
              "      <td>2.000000</td>\n",
              "      <td>0.000000</td>\n",
              "      <td>15.000000</td>\n",
              "      <td>28.000000</td>\n",
              "      <td>0.000000</td>\n",
              "      <td>0.000000</td>\n",
              "      <td>0.000000</td>\n",
              "      <td>163.000000</td>\n",
              "      <td>6804.000000</td>\n",
              "      <td>3.000000e+00</td>\n",
              "      <td>1.700000e+01</td>\n",
              "      <td>4.300000e+01</td>\n",
              "      <td>5.400000e-79</td>\n",
              "      <td>0.000000</td>\n",
              "      <td>0.000000</td>\n",
              "      <td>0.000000</td>\n",
              "      <td>0.000000</td>\n",
              "      <td>0.000000</td>\n",
              "    </tr>\n",
              "    <tr>\n",
              "      <th>50%</th>\n",
              "      <td>2.000000</td>\n",
              "      <td>0.000000</td>\n",
              "      <td>88.000000</td>\n",
              "      <td>88.000000</td>\n",
              "      <td>0.000000</td>\n",
              "      <td>0.000000</td>\n",
              "      <td>0.000000</td>\n",
              "      <td>168.000000</td>\n",
              "      <td>7938.000000</td>\n",
              "      <td>1.400000e+01</td>\n",
              "      <td>4.300000e+01</td>\n",
              "      <td>1.000000e+02</td>\n",
              "      <td>3.000000e+00</td>\n",
              "      <td>0.000000</td>\n",
              "      <td>0.000000</td>\n",
              "      <td>0.000000</td>\n",
              "      <td>0.000000</td>\n",
              "      <td>0.000000</td>\n",
              "    </tr>\n",
              "    <tr>\n",
              "      <th>75%</th>\n",
              "      <td>2.000000</td>\n",
              "      <td>0.000000</td>\n",
              "      <td>88.000000</td>\n",
              "      <td>88.000000</td>\n",
              "      <td>0.000000</td>\n",
              "      <td>0.000000</td>\n",
              "      <td>1.000000</td>\n",
              "      <td>178.000000</td>\n",
              "      <td>9072.000000</td>\n",
              "      <td>3.300000e+01</td>\n",
              "      <td>1.000000e+02</td>\n",
              "      <td>1.000000e+02</td>\n",
              "      <td>4.300000e+01</td>\n",
              "      <td>0.000000</td>\n",
              "      <td>0.000000</td>\n",
              "      <td>0.000000</td>\n",
              "      <td>1.000000</td>\n",
              "      <td>1.000000</td>\n",
              "    </tr>\n",
              "    <tr>\n",
              "      <th>max</th>\n",
              "      <td>60.000000</td>\n",
              "      <td>1.000000</td>\n",
              "      <td>88.000000</td>\n",
              "      <td>88.000000</td>\n",
              "      <td>1.000000</td>\n",
              "      <td>1.000000</td>\n",
              "      <td>1.000000</td>\n",
              "      <td>241.000000</td>\n",
              "      <td>28985.000000</td>\n",
              "      <td>9.900000e+03</td>\n",
              "      <td>9.900000e+03</td>\n",
              "      <td>9.900000e+03</td>\n",
              "      <td>9.900000e+03</td>\n",
              "      <td>1.000000</td>\n",
              "      <td>1.000000</td>\n",
              "      <td>1.000000</td>\n",
              "      <td>1.000000</td>\n",
              "      <td>1.000000</td>\n",
              "    </tr>\n",
              "  </tbody>\n",
              "</table>\n",
              "</div>\n",
              "      <button class=\"colab-df-convert\" onclick=\"convertToInteractive('df-f442067e-758f-4bf6-94b8-41b706da397a')\"\n",
              "              title=\"Convert this dataframe to an interactive table.\"\n",
              "              style=\"display:none;\">\n",
              "        \n",
              "  <svg xmlns=\"http://www.w3.org/2000/svg\" height=\"24px\"viewBox=\"0 0 24 24\"\n",
              "       width=\"24px\">\n",
              "    <path d=\"M0 0h24v24H0V0z\" fill=\"none\"/>\n",
              "    <path d=\"M18.56 5.44l.94 2.06.94-2.06 2.06-.94-2.06-.94-.94-2.06-.94 2.06-2.06.94zm-11 1L8.5 8.5l.94-2.06 2.06-.94-2.06-.94L8.5 2.5l-.94 2.06-2.06.94zm10 10l.94 2.06.94-2.06 2.06-.94-2.06-.94-.94-2.06-.94 2.06-2.06.94z\"/><path d=\"M17.41 7.96l-1.37-1.37c-.4-.4-.92-.59-1.43-.59-.52 0-1.04.2-1.43.59L10.3 9.45l-7.72 7.72c-.78.78-.78 2.05 0 2.83L4 21.41c.39.39.9.59 1.41.59.51 0 1.02-.2 1.41-.59l7.78-7.78 2.81-2.81c.8-.78.8-2.07 0-2.86zM5.41 20L4 18.59l7.72-7.72 1.47 1.35L5.41 20z\"/>\n",
              "  </svg>\n",
              "      </button>\n",
              "      \n",
              "  <style>\n",
              "    .colab-df-container {\n",
              "      display:flex;\n",
              "      flex-wrap:wrap;\n",
              "      gap: 12px;\n",
              "    }\n",
              "\n",
              "    .colab-df-convert {\n",
              "      background-color: #E8F0FE;\n",
              "      border: none;\n",
              "      border-radius: 50%;\n",
              "      cursor: pointer;\n",
              "      display: none;\n",
              "      fill: #1967D2;\n",
              "      height: 32px;\n",
              "      padding: 0 0 0 0;\n",
              "      width: 32px;\n",
              "    }\n",
              "\n",
              "    .colab-df-convert:hover {\n",
              "      background-color: #E2EBFA;\n",
              "      box-shadow: 0px 1px 2px rgba(60, 64, 67, 0.3), 0px 1px 3px 1px rgba(60, 64, 67, 0.15);\n",
              "      fill: #174EA6;\n",
              "    }\n",
              "\n",
              "    [theme=dark] .colab-df-convert {\n",
              "      background-color: #3B4455;\n",
              "      fill: #D2E3FC;\n",
              "    }\n",
              "\n",
              "    [theme=dark] .colab-df-convert:hover {\n",
              "      background-color: #434B5C;\n",
              "      box-shadow: 0px 1px 3px 1px rgba(0, 0, 0, 0.15);\n",
              "      filter: drop-shadow(0px 1px 2px rgba(0, 0, 0, 0.3));\n",
              "      fill: #FFFFFF;\n",
              "    }\n",
              "  </style>\n",
              "\n",
              "      <script>\n",
              "        const buttonEl =\n",
              "          document.querySelector('#df-f442067e-758f-4bf6-94b8-41b706da397a button.colab-df-convert');\n",
              "        buttonEl.style.display =\n",
              "          google.colab.kernel.accessAllowed ? 'block' : 'none';\n",
              "\n",
              "        async function convertToInteractive(key) {\n",
              "          const element = document.querySelector('#df-f442067e-758f-4bf6-94b8-41b706da397a');\n",
              "          const dataTable =\n",
              "            await google.colab.kernel.invokeFunction('convertToInteractive',\n",
              "                                                     [key], {});\n",
              "          if (!dataTable) return;\n",
              "\n",
              "          const docLinkHtml = 'Like what you see? Visit the ' +\n",
              "            '<a target=\"_blank\" href=https://colab.research.google.com/notebooks/data_table.ipynb>data table notebook</a>'\n",
              "            + ' to learn more about interactive tables.';\n",
              "          element.innerHTML = '';\n",
              "          dataTable['output_type'] = 'display_data';\n",
              "          await google.colab.output.renderOutput(dataTable, element);\n",
              "          const docLink = document.createElement('div');\n",
              "          docLink.innerHTML = docLinkHtml;\n",
              "          element.appendChild(docLink);\n",
              "        }\n",
              "      </script>\n",
              "    </div>\n",
              "  </div>\n",
              "  "
            ]
          },
          "metadata": {},
          "execution_count": 29
        }
      ]
    },
    {
      "cell_type": "markdown",
      "source": [
        "Preprocessing Numeric Variables:"
      ],
      "metadata": {
        "id": "6-crkPr7KJZR"
      }
    },
    {
      "cell_type": "code",
      "source": [
        "# HHADULT \n",
        "ax = sns.countplot(x=\"HHADULT\",data=x_train1)"
      ],
      "metadata": {
        "colab": {
          "base_uri": "https://localhost:8080/",
          "height": 279
        },
        "id": "mQnPiUmKKJvt",
        "outputId": "0ce26760-3bbc-47eb-a7e8-eb4f973f04b9"
      },
      "execution_count": null,
      "outputs": [
        {
          "output_type": "display_data",
          "data": {
            "text/plain": [
              "<Figure size 432x288 with 1 Axes>"
            ],
            "image/png": "[encoded data removed]"
          },
          "metadata": {
            "needs_background": "light"
          }
        }
      ]
    },
    {
      "cell_type": "code",
      "source": [
        "sns.boxplot( y=x_train1[\"HHADULT\"]);\n",
        "plt.show()"
      ],
      "metadata": {
        "colab": {
          "base_uri": "https://localhost:8080/",
          "height": 252
        },
        "id": "vc3ZrVRnKLMn",
        "outputId": "2222f01f-8d00-4daa-9fde-2d3af51c8370"
      },
      "execution_count": null,
      "outputs": [
        {
          "output_type": "display_data",
          "data": {
            "text/plain": [
              "<Figure size 432x288 with 1 Axes>"
            ],
            "image/png": "[encoded data removed]"
          },
          "metadata": {
            "needs_background": "light"
          }
        }
      ]
    },
    {
      "cell_type": "code",
      "source": [
        "# PHYSHLTH\n",
        "ax = sns.countplot(x=\"PHYSHLTH\",data=x_train1)"
      ],
      "metadata": {
        "colab": {
          "base_uri": "https://localhost:8080/",
          "height": 279
        },
        "id": "cAnFdcbIKMPz",
        "outputId": "f7dd452e-d479-474e-ab82-5ff70639040d"
      },
      "execution_count": null,
      "outputs": [
        {
          "output_type": "display_data",
          "data": {
            "text/plain": [
              "<Figure size 432x288 with 1 Axes>"
            ],
            "image/png": "[encoded data removed]"
          },
          "metadata": {
            "needs_background": "light"
          }
        }
      ]
    },
    {
      "cell_type": "code",
      "source": [
        "sns.boxplot( y=x_train1[\"PHYSHLTH\"]);\n",
        "plt.show()"
      ],
      "metadata": {
        "colab": {
          "base_uri": "https://localhost:8080/",
          "height": 252
        },
        "id": "ip7teR-eKNvX",
        "outputId": "e93acfa9-f3ce-4d10-89a5-61d1eeca13ac"
      },
      "execution_count": null,
      "outputs": [
        {
          "output_type": "display_data",
          "data": {
            "text/plain": [
              "<Figure size 432x288 with 1 Axes>"
            ],
            "image/png": "[encoded data removed]"
          },
          "metadata": {
            "needs_background": "light"
          }
        }
      ]
    },
    {
      "cell_type": "code",
      "source": [
        "# MENTHLTH\n",
        "ax = sns.countplot(x=\"MENTHLTH\",data=x_train1)"
      ],
      "metadata": {
        "colab": {
          "base_uri": "https://localhost:8080/",
          "height": 279
        },
        "id": "8CkV2nkGKQGr",
        "outputId": "cbaf5201-4b48-498a-b444-9f1f53049a03"
      },
      "execution_count": null,
      "outputs": [
        {
          "output_type": "display_data",
          "data": {
            "text/plain": [
              "<Figure size 432x288 with 1 Axes>"
            ],
            "image/png": "[encoded data removed]"
          },
          "metadata": {
            "needs_background": "light"
          }
        }
      ]
    },
    {
      "cell_type": "code",
      "source": [
        "sns.boxplot( y=x_train1[\"MENTHLTH\"]);\n",
        "plt.show()"
      ],
      "metadata": {
        "colab": {
          "base_uri": "https://localhost:8080/",
          "height": 252
        },
        "id": "XpdsKpX1KRfO",
        "outputId": "ec956a95-865a-4248-8bff-5e175ac2f20f"
      },
      "execution_count": null,
      "outputs": [
        {
          "output_type": "display_data",
          "data": {
            "text/plain": [
              "<Figure size 432x288 with 1 Axes>"
            ],
            "image/png": "[encoded data removed]"
          },
          "metadata": {
            "needs_background": "light"
          }
        }
      ]
    },
    {
      "cell_type": "code",
      "source": [
        "# HTM4\n",
        "ax = sns.countplot(x=\"HTM4\",data=x_train1)"
      ],
      "metadata": {
        "colab": {
          "base_uri": "https://localhost:8080/",
          "height": 279
        },
        "id": "vUgPtpZEKTY2",
        "outputId": "d150fa6d-d656-4e6b-ea14-02c4dc9da1d6"
      },
      "execution_count": null,
      "outputs": [
        {
          "output_type": "display_data",
          "data": {
            "text/plain": [
              "<Figure size 432x288 with 1 Axes>"
            ],
            "image/png": "[encoded data removed]"
          },
          "metadata": {
            "needs_background": "light"
          }
        }
      ]
    },
    {
      "cell_type": "code",
      "source": [
        "sns.boxplot( y=x_train1[\"HTM4\"]);\n",
        "plt.show()"
      ],
      "metadata": {
        "colab": {
          "base_uri": "https://localhost:8080/",
          "height": 252
        },
        "id": "WNEYBh5-KUmb",
        "outputId": "dd1b63b8-dd82-4ab8-ef7a-90f9efb95bdc"
      },
      "execution_count": null,
      "outputs": [
        {
          "output_type": "display_data",
          "data": {
            "text/plain": [
              "<Figure size 432x288 with 1 Axes>"
            ],
            "image/png": "[encoded data removed]"
          },
          "metadata": {
            "needs_background": "light"
          }
        }
      ]
    },
    {
      "cell_type": "code",
      "source": [
        "# WTKG3\n",
        "ax = sns.countplot(x=\"WTKG3\",data=x_train1)"
      ],
      "metadata": {
        "colab": {
          "base_uri": "https://localhost:8080/",
          "height": 279
        },
        "id": "IqbhORgpKV6A",
        "outputId": "e940e953-4205-4921-c90c-8022e0c62ecc"
      },
      "execution_count": null,
      "outputs": [
        {
          "output_type": "display_data",
          "data": {
            "text/plain": [
              "<Figure size 432x288 with 1 Axes>"
            ],
            "image/png": "[encoded data removed]"
          },
          "metadata": {
            "needs_background": "light"
          }
        }
      ]
    },
    {
      "cell_type": "code",
      "source": [
        "sns.boxplot( y=x_train1[\"WTKG3\"]);\n",
        "plt.show()"
      ],
      "metadata": {
        "colab": {
          "base_uri": "https://localhost:8080/",
          "height": 253
        },
        "id": "6f5kDZ3CKXJc",
        "outputId": "4ce62f76-dcef-430f-ab89-c84686f417c9"
      },
      "execution_count": null,
      "outputs": [
        {
          "output_type": "display_data",
          "data": {
            "text/plain": [
              "<Figure size 432x288 with 1 Axes>"
            ],
            "image/png": "[encoded data removed]"
          },
          "metadata": {
            "needs_background": "light"
          }
        }
      ]
    },
    {
      "cell_type": "code",
      "source": [
        "# ORNGDAY_\n",
        "ax = sns.countplot(x=\"ORNGDAY_\",data=x_train1)"
      ],
      "metadata": {
        "colab": {
          "base_uri": "https://localhost:8080/",
          "height": 280
        },
        "id": "YXPZCBysKYiB",
        "outputId": "243ed3fb-0437-40d4-f8de-416abd7eef58"
      },
      "execution_count": null,
      "outputs": [
        {
          "output_type": "display_data",
          "data": {
            "text/plain": [
              "<Figure size 432x288 with 1 Axes>"
            ],
            "image/png": "[encoded data removed]"
          },
          "metadata": {
            "needs_background": "light"
          }
        }
      ]
    },
    {
      "cell_type": "code",
      "source": [
        "sns.boxplot( y=x_train1[\"ORNGDAY_\"]);\n",
        "plt.show()"
      ],
      "metadata": {
        "colab": {
          "base_uri": "https://localhost:8080/",
          "height": 252
        },
        "id": "D6a2lUmxKZq6",
        "outputId": "18d7171a-206f-4297-fc3b-ad5fd92409b3"
      },
      "execution_count": null,
      "outputs": [
        {
          "output_type": "display_data",
          "data": {
            "text/plain": [
              "<Figure size 432x288 with 1 Axes>"
            ],
            "image/png": "[encoded data removed]"
          },
          "metadata": {
            "needs_background": "light"
          }
        }
      ]
    },
    {
      "cell_type": "code",
      "source": [
        "# GRENDAY_\n",
        "ax = sns.countplot(x=\"GRENDAY_\",data=x_train1)"
      ],
      "metadata": {
        "colab": {
          "base_uri": "https://localhost:8080/",
          "height": 280
        },
        "id": "MEkETRrxKa16",
        "outputId": "b7e9c56d-0600-4446-dc55-310318fa35ce"
      },
      "execution_count": null,
      "outputs": [
        {
          "output_type": "display_data",
          "data": {
            "text/plain": [
              "<Figure size 432x288 with 1 Axes>"
            ],
            "image/png": "[encoded data removed]"
          },
          "metadata": {
            "needs_background": "light"
          }
        }
      ]
    },
    {
      "cell_type": "code",
      "source": [
        "sns.boxplot( y=x_train1[\"GRENDAY_\"]);\n",
        "plt.show()"
      ],
      "metadata": {
        "colab": {
          "base_uri": "https://localhost:8080/",
          "height": 252
        },
        "id": "Ru4U7GGUKb6Z",
        "outputId": "17d622f7-47b9-4b28-8386-dae9c58a901d"
      },
      "execution_count": null,
      "outputs": [
        {
          "output_type": "display_data",
          "data": {
            "text/plain": [
              "<Figure size 432x288 with 1 Axes>"
            ],
            "image/png": "[encoded data removed]"
          },
          "metadata": {
            "needs_background": "light"
          }
        }
      ]
    },
    {
      "cell_type": "code",
      "source": [
        "# FRUTDA1\n",
        "ax = sns.countplot(x=\"FRUTDA1_\",data=x_train1)"
      ],
      "metadata": {
        "colab": {
          "base_uri": "https://localhost:8080/",
          "height": 280
        },
        "id": "OLX-wD9oKdNQ",
        "outputId": "35c6b47c-ebab-456b-ad97-398660c739c5"
      },
      "execution_count": null,
      "outputs": [
        {
          "output_type": "display_data",
          "data": {
            "text/plain": [
              "<Figure size 432x288 with 1 Axes>"
            ],
            "image/png": "[encoded data removed]"
          },
          "metadata": {
            "needs_background": "light"
          }
        }
      ]
    },
    {
      "cell_type": "code",
      "source": [
        "sns.boxplot( y=x_train1[\"FRUTDA1_\"]);\n",
        "plt.show()"
      ],
      "metadata": {
        "colab": {
          "base_uri": "https://localhost:8080/",
          "height": 252
        },
        "id": "pYZlEdHlKen2",
        "outputId": "eba3b075-2c70-430e-c718-1eecd5a7f9f9"
      },
      "execution_count": null,
      "outputs": [
        {
          "output_type": "display_data",
          "data": {
            "text/plain": [
              "<Figure size 432x288 with 1 Axes>"
            ],
            "image/png": "[encoded data removed]"
          },
          "metadata": {
            "needs_background": "light"
          }
        }
      ]
    },
    {
      "cell_type": "code",
      "source": [
        "# FTJUDA1 \n",
        "ax = sns.countplot(x=\"FTJUDA1_\",data=x_train1)"
      ],
      "metadata": {
        "colab": {
          "base_uri": "https://localhost:8080/",
          "height": 280
        },
        "id": "ey6r7byNKf7-",
        "outputId": "a51d3580-11a6-44b3-cd05-45ef59884d8e"
      },
      "execution_count": null,
      "outputs": [
        {
          "output_type": "display_data",
          "data": {
            "text/plain": [
              "<Figure size 432x288 with 1 Axes>"
            ],
            "image/png": "[encoded data removed]"
          },
          "metadata": {
            "needs_background": "light"
          }
        }
      ]
    },
    {
      "cell_type": "code",
      "source": [
        "sns.boxplot( y=x_train1[\"FTJUDA1_\"]);\n",
        "plt.show()"
      ],
      "metadata": {
        "colab": {
          "base_uri": "https://localhost:8080/",
          "height": 252
        },
        "id": "dKixorPiKhIB",
        "outputId": "df980615-025b-4407-a136-284eb3a44335"
      },
      "execution_count": null,
      "outputs": [
        {
          "output_type": "display_data",
          "data": {
            "text/plain": [
              "<Figure size 432x288 with 1 Axes>"
            ],
            "image/png": "[encoded data removed]"
          },
          "metadata": {
            "needs_background": "light"
          }
        }
      ]
    },
    {
      "cell_type": "code",
      "source": [
        "# handling outliers (HHADULT, TRM4, WTKG3, ORNGDAY_, GRENDAY_, FRUTDA1_, \n",
        "# FTJUDA1_) for x_train1 and x_test1 \n",
        "\n",
        "# x_train1 \n",
        "cols = ['HHADULT', 'HTM4', 'WTKG3', 'ORNGDAY_', 'GRENDAY_', 'FRUTDA1_',\n",
        "        'FTJUDA1_'] \n",
        "\n",
        "Q1 = x_train1[cols].quantile(0.25)\n",
        "Q3 = x_train1[cols].quantile(0.75)\n",
        "IQR = Q3 - Q1\n",
        "\n",
        "x_train1O = x_train1[~((x_train1[cols] < (Q1 - 1.5 * IQR))\\\n",
        "                       |(x_train1[cols] > (Q3 + 1.5 * IQR))).any(axis=1)]\n",
        "\n",
        "\n",
        "# x_test1 \n",
        "Q1 = x_test1[cols].quantile(0.25)\n",
        "Q3 = x_test1[cols].quantile(0.75)\n",
        "IQR = Q3 - Q1\n",
        "\n",
        "x_test1O = x_test1[~((x_test1[cols] < (Q1 - 1.5 * IQR))\\\n",
        "                     |(x_test1[cols] > (Q3 + 1.5 * IQR))).any(axis=1)]"
      ],
      "metadata": {
        "id": "Zu9apSZGKiun"
      },
      "execution_count": null,
      "outputs": []
    },
    {
      "cell_type": "markdown",
      "source": [
        "Outliers were handled using the z-score found for each of the variables."
      ],
      "metadata": {
        "id": "M2JvZZt5Kk6c"
      }
    },
    {
      "cell_type": "code",
      "source": [
        "# HTM4 check \n",
        "sns.boxplot( y=x_train1O[\"HTM4\"]);\n",
        "plt.show()"
      ],
      "metadata": {
        "colab": {
          "base_uri": "https://localhost:8080/",
          "height": 252
        },
        "id": "zcYeHJL5KmJV",
        "outputId": "26eaca0d-69c3-4455-88cb-b24dedfb8427"
      },
      "execution_count": null,
      "outputs": [
        {
          "output_type": "display_data",
          "data": {
            "text/plain": [
              "<Figure size 432x288 with 1 Axes>"
            ],
            "image/png": "[encoded data removed]"
          },
          "metadata": {
            "needs_background": "light"
          }
        }
      ]
    },
    {
      "cell_type": "code",
      "source": [
        "# WTKG3 check \n",
        "sns.boxplot( y=x_train1O[\"WTKG3\"]);\n",
        "plt.show()"
      ],
      "metadata": {
        "colab": {
          "base_uri": "https://localhost:8080/",
          "height": 252
        },
        "id": "wVcgsdd7KnWr",
        "outputId": "16c06bcd-3b20-4d1b-eeac-91bc3c62aa59"
      },
      "execution_count": null,
      "outputs": [
        {
          "output_type": "display_data",
          "data": {
            "text/plain": [
              "<Figure size 432x288 with 1 Axes>"
            ],
            "image/png": "[encoded data removed]"
          },
          "metadata": {
            "needs_background": "light"
          }
        }
      ]
    },
    {
      "cell_type": "code",
      "source": [
        "# ORNGDAY_ check \n",
        "sns.boxplot( y=x_train1O[\"ORNGDAY_\"]);\n",
        "plt.show()"
      ],
      "metadata": {
        "colab": {
          "base_uri": "https://localhost:8080/",
          "height": 254
        },
        "id": "by07ch8GKor2",
        "outputId": "2a3c9dfa-dabd-4ab6-b4b2-bb4d9c511d44"
      },
      "execution_count": null,
      "outputs": [
        {
          "output_type": "display_data",
          "data": {
            "text/plain": [
              "<Figure size 432x288 with 1 Axes>"
            ],
            "image/png": "[encoded data removed]"
          },
          "metadata": {
            "needs_background": "light"
          }
        }
      ]
    },
    {
      "cell_type": "code",
      "source": [
        "# GRENDAY_ check \n",
        "sns.boxplot( y=x_train1O[\"GRENDAY_\"]);\n",
        "plt.show()"
      ],
      "metadata": {
        "colab": {
          "base_uri": "https://localhost:8080/",
          "height": 252
        },
        "id": "SgSozIgkKpNc",
        "outputId": "0682354c-69e3-468d-ab70-d9883fdbd04c"
      },
      "execution_count": null,
      "outputs": [
        {
          "output_type": "display_data",
          "data": {
            "text/plain": [
              "<Figure size 432x288 with 1 Axes>"
            ],
            "image/png": "[encoded data removed]"
          },
          "metadata": {
            "needs_background": "light"
          }
        }
      ]
    },
    {
      "cell_type": "code",
      "source": [
        "# FRUTDA1_ check \n",
        "sns.boxplot( y=x_train1O[\"FRUTDA1_\"]);\n",
        "plt.show()"
      ],
      "metadata": {
        "colab": {
          "base_uri": "https://localhost:8080/",
          "height": 252
        },
        "id": "2Jv1LQ-TKqdp",
        "outputId": "351ab9c8-8bcf-4313-bb19-b515b9b6746d"
      },
      "execution_count": null,
      "outputs": [
        {
          "output_type": "display_data",
          "data": {
            "text/plain": [
              "<Figure size 432x288 with 1 Axes>"
            ],
            "image/png": "[encoded data removed]"
          },
          "metadata": {
            "needs_background": "light"
          }
        }
      ]
    },
    {
      "cell_type": "code",
      "source": [
        "# FTJUDA1_ check \n",
        "sns.boxplot( y=x_train1O[\"FTJUDA1_\"]);\n",
        "plt.show()"
      ],
      "metadata": {
        "colab": {
          "base_uri": "https://localhost:8080/",
          "height": 252
        },
        "id": "v5DjaZ2SKseS",
        "outputId": "8bdbb45f-7b5a-4d0b-d2cf-18bf2e5ec184"
      },
      "execution_count": null,
      "outputs": [
        {
          "output_type": "display_data",
          "data": {
            "text/plain": [
              "<Figure size 432x288 with 1 Axes>"
            ],
            "image/png": "[encoded data removed]"
          },
          "metadata": {
            "needs_background": "light"
          }
        }
      ]
    },
    {
      "cell_type": "code",
      "source": [
        "# Normalizing x_train1o and x_test1o\n",
        "\n",
        "scaler = StandardScaler()\n",
        "scaler.fit(x_train1O)\n",
        "xf_train = scaler.transform(x_train1O)\n",
        "xf_test = scaler.transform(x_test1O) \n"
      ],
      "metadata": {
        "id": "MtPRdeduKuHO"
      },
      "execution_count": null,
      "outputs": []
    },
    {
      "cell_type": "code",
      "source": [
        "# x_train and test into a dataframe for later use \n",
        "xf_train = pd.DataFrame(xf_train, columns = ['HHADULT', 'GENHLTH', 'PHYSHLTH', \n",
        "          'MENTHLTH','HLTHPLN1', 'BPMEDS','_RFCHOL', 'HTM4', 'WTKG3', \n",
        "           'ORNGDAY_','GRENDAY_', 'FRUTDA1_', 'FTJUDA1_','_SMOKER3','ASTHMA3',  \n",
        "           '_MICHD', 'SEX', \n",
        "          'BPHIGH4',])\n",
        "\n",
        "xf_test = pd.DataFrame(xf_test, columns = ['HHADULT', 'GENHLTH', 'PHYSHLTH', \n",
        "          'MENTHLTH','HLTHPLN1', 'BPMEDS','_RFCHOL', 'HTM4', 'WTKG3', \n",
        "           'ORNGDAY_','GRENDAY_', 'FRUTDA1_', 'FTJUDA1_','_SMOKER3','ASTHMA3',  \n",
        "           '_MICHD', 'SEX', \n",
        "          'BPHIGH4',])"
      ],
      "metadata": {
        "id": "wjMAMLPsKvmi"
      },
      "execution_count": null,
      "outputs": []
    },
    {
      "cell_type": "code",
      "source": [
        "# Number of people per state with diabetes as an overlay \n",
        "crosstab_1 = pd.crosstab(diabetes_df85['_STATE'], diabetes_df85RI['DIABETE3'])\n",
        "crosstab_1.plot(kind='bar', stacked=True, figsize = (20,10))"
      ],
      "metadata": {
        "colab": {
          "base_uri": "https://localhost:8080/",
          "height": 627
        },
        "id": "w3cfixf8KyMr",
        "outputId": "c70e4b9e-06cb-4239-acbc-64a52e64dfce"
      },
      "execution_count": null,
      "outputs": [
        {
          "output_type": "execute_result",
          "data": {
            "text/plain": [
              "<matplotlib.axes._subplots.AxesSubplot at 0x7fb9c0f80950>"
            ]
          },
          "metadata": {},
          "execution_count": 58
        },
        {
          "output_type": "display_data",
          "data": {
            "text/plain": [
              "<Figure size 1440x720 with 1 Axes>"
            ],
            "image/png": "[encoded data removed]"
          },
          "metadata": {
            "needs_background": "light"
          }
        }
      ]
    },
    {
      "cell_type": "code",
      "source": [
        "# EDA: Diabetic vs. Non Diabetic for males vs. females as overlay \n",
        "crosstab_1 = pd.crosstab(diabetes_df85RI['DIABETE3'], diabetes_df85['SEX'])\n",
        "crosstab_1.plot(kind='bar', stacked=True, figsize = (20,10))"
      ],
      "metadata": {
        "colab": {
          "base_uri": "https://localhost:8080/",
          "height": 629
        },
        "id": "DKTsXCZQKzV2",
        "outputId": "d712341a-ed12-4ad5-9151-9c303eb5bf63"
      },
      "execution_count": null,
      "outputs": [
        {
          "output_type": "execute_result",
          "data": {
            "text/plain": [
              "<matplotlib.axes._subplots.AxesSubplot at 0x7fb9c2040810>"
            ]
          },
          "metadata": {},
          "execution_count": 59
        },
        {
          "output_type": "display_data",
          "data": {
            "text/plain": [
              "<Figure size 1440x720 with 1 Axes>"
            ],
            "image/png": "[encoded data removed]"
          },
          "metadata": {
            "needs_background": "light"
          }
        }
      ]
    },
    {
      "cell_type": "code",
      "source": [
        "# EDA: Diabetes vs. Non Diabetic for SMOKERS as overlay \n",
        "crosstab_1 = pd.crosstab(diabetes_df85RI['DIABETE3'], x_train1['_SMOKER3'])\n",
        "crosstab_1.plot(kind='bar', stacked=True, figsize = (20,10))"
      ],
      "metadata": {
        "colab": {
          "base_uri": "https://localhost:8080/",
          "height": 629
        },
        "id": "n-K9u24UK03x",
        "outputId": "b45091cc-ac0a-481b-b5c0-45c426eab5dd"
      },
      "execution_count": null,
      "outputs": [
        {
          "output_type": "execute_result",
          "data": {
            "text/plain": [
              "<matplotlib.axes._subplots.AxesSubplot at 0x7fb9c0f66250>"
            ]
          },
          "metadata": {},
          "execution_count": 60
        },
        {
          "output_type": "display_data",
          "data": {
            "text/plain": [
              "<Figure size 1440x720 with 1 Axes>"
            ],
            "image/png": "[encoded data removed]"
          },
          "metadata": {
            "needs_background": "light"
          }
        }
      ]
    },
    {
      "cell_type": "code",
      "source": [
        "# GEN HEALTH VS DIABETES \n",
        "crosstab_1 = pd.crosstab(diabetes_df85RI['GENHLTH'], \n",
        "                         diabetes_df85RI['DIABETE3'])\n",
        "crosstab_1.plot(kind='bar', stacked=True, figsize = (20,10))"
      ],
      "metadata": {
        "colab": {
          "base_uri": "https://localhost:8080/",
          "height": 655
        },
        "id": "QcLFLBt8K2KE",
        "outputId": "c036a0c7-301d-4f3f-9f7e-8a74ae015af8"
      },
      "execution_count": null,
      "outputs": [
        {
          "output_type": "execute_result",
          "data": {
            "text/plain": [
              "<matplotlib.axes._subplots.AxesSubplot at 0x7fb9c22b3810>"
            ]
          },
          "metadata": {},
          "execution_count": 61
        },
        {
          "output_type": "display_data",
          "data": {
            "text/plain": [
              "<Figure size 1440x720 with 1 Axes>"
            ],
            "image/png": "[encoded data removed]"
          },
          "metadata": {
            "needs_background": "light"
          }
        }
      ]
    },
    {
      "cell_type": "code",
      "source": [
        "# Correlation Heatmap \n",
        "sns.heatmap(x_train1.corr())"
      ],
      "metadata": {
        "colab": {
          "base_uri": "https://localhost:8080/",
          "height": 332
        },
        "id": "thxisJp3K3fe",
        "outputId": "62bbf6c4-121d-42ea-b928-eb7e799f58e7"
      },
      "execution_count": null,
      "outputs": [
        {
          "output_type": "execute_result",
          "data": {
            "text/plain": [
              "<matplotlib.axes._subplots.AxesSubplot at 0x7fb9c2076710>"
            ]
          },
          "metadata": {},
          "execution_count": 62
        },
        {
          "output_type": "display_data",
          "data": {
            "text/plain": [
              "<Figure size 432x288 with 2 Axes>"
            ],
            "image/png": "[encoded data removed]"
          },
          "metadata": {
            "needs_background": "light"
          }
        }
      ]
    },
    {
      "cell_type": "markdown",
      "source": [
        "xf_train, xf_test, y_train, and y_test"
      ],
      "metadata": {
        "id": "sz4bjKlbLPiz"
      }
    },
    {
      "cell_type": "markdown",
      "source": [
        "**Model 1: ---**"
      ],
      "metadata": {
        "id": "M90wXigkK6EW"
      }
    },
    {
      "cell_type": "code",
      "source": [
        ""
      ],
      "metadata": {
        "id": "TrAZkyxrK-Ou"
      },
      "execution_count": null,
      "outputs": []
    },
    {
      "cell_type": "code",
      "source": [
        ""
      ],
      "metadata": {
        "id": "KtJTpgO9LAi5"
      },
      "execution_count": null,
      "outputs": []
    },
    {
      "cell_type": "code",
      "source": [
        ""
      ],
      "metadata": {
        "id": "Psdc2PYzLBMV"
      },
      "execution_count": null,
      "outputs": []
    },
    {
      "cell_type": "code",
      "source": [
        ""
      ],
      "metadata": {
        "id": "iN2qNt8ULAaD"
      },
      "execution_count": null,
      "outputs": []
    },
    {
      "cell_type": "markdown",
      "source": [
        "**Model 2: ---**"
      ],
      "metadata": {
        "id": "VnktLrL1K9Ml"
      }
    },
    {
      "cell_type": "code",
      "source": [
        ""
      ],
      "metadata": {
        "id": "FJpELnzXLLcR"
      },
      "execution_count": null,
      "outputs": []
    },
    {
      "cell_type": "code",
      "source": [
        ""
      ],
      "metadata": {
        "id": "aT7_eJ0_LLZt"
      },
      "execution_count": null,
      "outputs": []
    },
    {
      "cell_type": "markdown",
      "source": [
        "**Model 3: ---**"
      ],
      "metadata": {
        "id": "CKg7-Fe4LGBc"
      }
    },
    {
      "cell_type": "code",
      "source": [
        ""
      ],
      "metadata": {
        "id": "qbMpHE2LLMBh"
      },
      "execution_count": null,
      "outputs": []
    },
    {
      "cell_type": "code",
      "source": [
        ""
      ],
      "metadata": {
        "id": "7EIIPLjVLL_L"
      },
      "execution_count": null,
      "outputs": []
    },
    {
      "cell_type": "markdown",
      "source": [
        "**Model 4: ---**"
      ],
      "metadata": {
        "id": "Hd6A02NnLJKM"
      }
    },
    {
      "cell_type": "code",
      "source": [
        ""
      ],
      "metadata": {
        "id": "bop5cqUDLMp4"
      },
      "execution_count": null,
      "outputs": []
    },
    {
      "cell_type": "code",
      "source": [
        ""
      ],
      "metadata": {
        "id": "mspHmGLFLMnR"
      },
      "execution_count": null,
      "outputs": []
    }
  ]
}